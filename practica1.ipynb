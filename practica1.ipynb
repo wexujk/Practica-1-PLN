{
 "cells": [
  {
   "cell_type": "markdown",
   "metadata": {},
   "source": [
    "# Procesamiento del Lenguaje Natural\n",
    "\n",
    "## Práctica 1\n",
    "\n",
    "Preprocesar un corpus a partir de métodos basados en lenguajes formales.\n",
    "\n",
    "Carlos Pérez Vásquez"
   ]
  },
  {
   "cell_type": "code",
   "execution_count": 17,
   "metadata": {},
   "outputs": [],
   "source": [
    "import nltk\n",
    "import re\n",
    "import matplotlib.pyplot as plt\n",
    "from collections import Counter\n",
    "from wordcloud import WordCloud\n",
    "import string"
   ]
  },
  {
   "cell_type": "code",
   "execution_count": 18,
   "metadata": {},
   "outputs": [],
   "source": [
    "#Lista para almacenar el corpus.\n",
    "kavi=[]"
   ]
  },
  {
   "cell_type": "markdown",
   "metadata": {},
   "source": [
    "## Se escogió una obra de Friedrich Nietzsche como corpus.\n",
    "![Texto alternativo](docs/zar.jpg)"
   ]
  },
  {
   "cell_type": "code",
   "execution_count": 19,
   "metadata": {},
   "outputs": [],
   "source": [
    "# Leer  archivo y guardar el texto en la lista \"kavi\"\n",
    "\n",
    "with open('docs/zaratustra.txt', 'rt') as file:\n",
    "    kavi = file.read().lower()"
   ]
  },
  {
   "cell_type": "markdown",
   "metadata": {},
   "source": [
    "### dividir cadenas en tokens. con la  función llamada word_tokenize()  de NLTK\n",
    "### Divide los tokens según el espacio en blanco y la puntuación"
   ]
  },
  {
   "cell_type": "code",
   "execution_count": 20,
   "metadata": {},
   "outputs": [],
   "source": [
    "tokens = nltk.word_tokenize(kavi)"
   ]
  },
  {
   "cell_type": "markdown",
   "metadata": {},
   "source": [
    "### Filtrar puntuación"
   ]
  },
  {
   "cell_type": "code",
   "execution_count": 21,
   "metadata": {},
   "outputs": [],
   "source": [
    "kein_punkt = re.compile('[%s]' % re.escape(string.punctuation))\n",
    "ohne= [kein_punkt.sub('', w) for w in tokens]\n",
    "tuun = [word for word in ohne if word.isalpha()]"
   ]
  },
  {
   "cell_type": "markdown",
   "metadata": {},
   "source": [
    "### Eliminar las stopwords usando lista pre-hecha de NLTK"
   ]
  },
  {
   "cell_type": "code",
   "execution_count": 22,
   "metadata": {},
   "outputs": [],
   "source": [
    "\n",
    "stop_words = set(nltk.corpus.stopwords.words('spanish'))\n",
    "tuuncl = [w for w in tuun if not w in stop_words]"
   ]
  },
  {
   "cell_type": "markdown",
   "metadata": {},
   "source": [
    "### Algoritmo de Stemming a los tokens limpios (tuuncl) con el algoritmo de Porter "
   ]
  },
  {
   "cell_type": "code",
   "execution_count": 23,
   "metadata": {},
   "outputs": [],
   "source": [
    "porter = nltk.stem.PorterStemmer()\n",
    "stemmed = [porter.stem(word) for word in tuuncl]"
   ]
  },
  {
   "cell_type": "code",
   "execution_count": 24,
   "metadata": {},
   "outputs": [],
   "source": [
    "# se guarda los tokens limpios  en un archivo\n",
    "with open('tutukavi.txt', 'w') as file:\n",
    "    for token in stemmed:\n",
    "        file.write(token)\n",
    "        file.write('\\n')"
   ]
  },
  {
   "cell_type": "markdown",
   "metadata": {},
   "source": [
    "### Número de tokens"
   ]
  },
  {
   "cell_type": "code",
   "execution_count": 25,
   "metadata": {},
   "outputs": [
    {
     "data": {
      "text/plain": [
       "43172"
      ]
     },
     "execution_count": 25,
     "metadata": {},
     "output_type": "execute_result"
    }
   ],
   "source": [
    "num_tokens=len(stemmed)\n",
    "num_tokens"
   ]
  },
  {
   "cell_type": "markdown",
   "metadata": {},
   "source": [
    "### Crear lista de tipos y sus frecuencias, ordenandolos de mayor a menor frecuencia"
   ]
  },
  {
   "cell_type": "code",
   "execution_count": 26,
   "metadata": {},
   "outputs": [],
   "source": [
    "tipos =  list(set(stemmed))\n",
    "# asignar  frecuencias a cada token\n",
    "freq_tipos = Counter(stemmed)\n",
    "# ordenar las frecuencias de maor a menor\n",
    "freq_tipo= sorted(freq_tipos.items(), key=lambda x: x[1], reverse=True)\n"
   ]
  },
  {
   "cell_type": "code",
   "execution_count": 27,
   "metadata": {},
   "outputs": [],
   "source": [
    "#freq_tipo"
   ]
  },
  {
   "cell_type": "markdown",
   "metadata": {},
   "source": [
    "### Con esta función (nltk.FreqDist()) también se pueden obtener una distribución de frecuencias con NLTK"
   ]
  },
  {
   "cell_type": "code",
   "execution_count": null,
   "metadata": {},
   "outputs": [],
   "source": [
    "\n",
    "freq=nltk.FreqDist(stemmed) \n",
    "freq.plot()"
   ]
  },
  {
   "cell_type": "code",
   "execution_count": null,
   "metadata": {},
   "outputs": [],
   "source": [
    "mycloud = WordCloud()\n",
    "\n",
    "mycloud.generate_from_frequencies(Counter(tuuncl))\n",
    "\n",
    "plt.figure(figsize=(8,6), dpi=120)\n",
    "plt.imshow(mycloud)\n",
    "plt.axis(\"off\")\n",
    "plt.show()"
   ]
  }
 ],
 "metadata": {
  "kernelspec": {
   "display_name": "Python 3",
   "language": "python",
   "name": "python3"
  },
  "language_info": {
   "codemirror_mode": {
    "name": "ipython",
    "version": 3
   },
   "file_extension": ".py",
   "mimetype": "text/x-python",
   "name": "python",
   "nbconvert_exporter": "python",
   "pygments_lexer": "ipython3",
   "version": "3.8.5"
  }
 },
 "nbformat": 4,
 "nbformat_minor": 4
}
